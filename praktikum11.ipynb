{
  "nbformat": 4,
  "nbformat_minor": 0,
  "metadata": {
    "colab": {
      "provenance": [],
      "authorship_tag": "ABX9TyMzltqqT74jOPEJUu0GjH1b",
      "include_colab_link": true
    },
    "kernelspec": {
      "name": "python3",
      "display_name": "Python 3"
    },
    "language_info": {
      "name": "python"
    }
  },
  "cells": [
    {
      "cell_type": "markdown",
      "metadata": {
        "id": "view-in-github",
        "colab_type": "text"
      },
      "source": [
        "<a href=\"https://colab.research.google.com/github/taufikalbani13/Praktikum11/blob/main/praktikum11.ipynb\" target=\"_parent\"><img src=\"https://colab.research.google.com/assets/colab-badge.svg\" alt=\"Open In Colab\"/></a>"
      ]
    },
    {
      "cell_type": "code",
      "execution_count": 3,
      "metadata": {
        "id": "xrLNwPhpsnvf"
      },
      "outputs": [],
      "source": [
        "import requests\n",
        "from bs4 import BeautifulSoup\n",
        "import pandas as pd"
      ]
    },
    {
      "cell_type": "code",
      "source": [
        "URL = \"https://jadwalsholat.org/jadwal-sholat/monthly.php\"\n",
        "page = requests.get(URL)\n",
        "\n",
        "soup = BeautifulSoup(page.text, \"html.parser\")\n",
        "jadwal = soup.select('.table_highlight td')\n",
        "for waktu in jadwal:\n",
        "    print(waktu.text)"
      ],
      "metadata": {
        "colab": {
          "base_uri": "https://localhost:8080/"
        },
        "id": "YbljBSMkxw2b",
        "outputId": "a6b0ed82-2a3e-4739-f32f-3d6592d6d5af"
      },
      "execution_count": 4,
      "outputs": [
        {
          "output_type": "stream",
          "name": "stdout",
          "text": [
            "17\n",
            "04:18\n",
            "04:28\n",
            "05:47\n",
            "06:11\n",
            "12:04\n",
            "15:29\n",
            "18:18\n",
            "19:32\n"
          ]
        }
      ]
    }
  ]
}